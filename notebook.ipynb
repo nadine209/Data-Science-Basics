{
 "cells": [
  {
   "cell_type": "code",
   "execution_count": 1,
   "id": "e9c5b1fe-8b81-4fd7-a65b-c201945c14b6",
   "metadata": {},
   "outputs": [
    {
     "name": "stdout",
     "output_type": "stream",
     "text": [
      "Tout est prêt 🔥\n"
     ]
    }
   ],
   "source": [
    "from surprise import SVD, Dataset, Reader\n",
    "print(\"Tout est prêt 🔥\")\n"
   ]
  },
  {
   "cell_type": "code",
   "execution_count": 7,
   "id": "01945ae1-fc1b-4893-84af-46bf53b0713c",
   "metadata": {},
   "outputs": [
    {
     "name": "stdout",
     "output_type": "stream",
     "text": [
      "RMSE: 0.5256\n",
      "RMSE: 0.5255941310033561\n",
      "Top 5 événements recommandés pour l'utilisateur 42:\n",
      "Événement ID: 2, Score: 0.657108705876295\n",
      "Événement ID: 11, Score: 0.6078580545658155\n",
      "Événement ID: 29, Score: 0.5743899206355999\n",
      "Événement ID: 23, Score: 0.5357391785388075\n",
      "Événement ID: 14, Score: 0.4949380545506552\n"
     ]
    }
   ],
   "source": [
    "import pandas as pd\n",
    "from surprise import SVD, Dataset, Reader\n",
    "from surprise.model_selection import train_test_split\n",
    "from surprise import accuracy\n",
    "from collections import defaultdict\n",
    "\n",
    "# 1. Charger les données\n",
    "df = pd.read_csv(r\"C:\\Users\\nadin_pbj\\Data-Science-Basics\\data\\event_data.csv\")\n",
    "\n",
    "# 2. Créer un Reader et charger dans Surprise\n",
    "reader = Reader(rating_scale=(0, 1))\n",
    "data = Dataset.load_from_df(df[['user_id', 'event_id', 'attended']], reader)\n",
    "\n",
    "# 3. Split des données\n",
    "trainset, testset = train_test_split(data, test_size=0.2, random_state=42)\n",
    "\n",
    "# 4. Créer le modèle SVD\n",
    "model = SVD()\n",
    "model.fit(trainset)\n",
    "\n",
    "# 5. Prédiction et évaluation\n",
    "predictions = model.test(testset)\n",
    "rmse = accuracy.rmse(predictions)\n",
    "print(\"RMSE:\", rmse)\n",
    "\n",
    "# 6. Recommander des événements pour un utilisateur\n",
    "def get_top_n(predictions, n=5):\n",
    "    top_n = defaultdict(list)\n",
    "    for uid, iid, true_r, est, _ in predictions:\n",
    "        top_n[uid].append((iid, est))\n",
    "    for uid, user_ratings in top_n.items():\n",
    "        user_ratings.sort(key=lambda x: x[1], reverse=True)\n",
    "        top_n[uid] = user_ratings[:n]\n",
    "    return top_n\n",
    "\n",
    "top_n = get_top_n(predictions, n=5)\n",
    "\n",
    "# Vérifier si l'utilisateur 42 est dans les recommandations\n",
    "user_id = 42\n",
    "if user_id in top_n:\n",
    "    print(f\"Top 5 événements recommandés pour l'utilisateur {user_id}:\")\n",
    "    for event_id, score in top_n[user_id]:\n",
    "        print(f\"Événement ID: {event_id}, Score: {score}\")\n",
    "else:\n",
    "    print(f\"L'utilisateur {user_id} n'a pas de recommandations disponibles dans l'ensemble de test.\")\n"
   ]
  },
  {
   "cell_type": "code",
   "execution_count": 7,
   "id": "9cc15dfa-a225-4394-95b7-bc07a52ff0ac",
   "metadata": {},
   "outputs": [
    {
     "name": "stdout",
     "output_type": "stream",
     "text": [
      "RMSE: 0.5256\n",
      "RMSE: 0.5255941310033561\n",
      "Top 5 événements recommandés pour l'utilisateur 42:\n",
      "Événement ID: 2, Score: 0.657108705876295\n",
      "Événement ID: 11, Score: 0.6078580545658155\n",
      "Événement ID: 29, Score: 0.5743899206355999\n",
      "Événement ID: 23, Score: 0.5357391785388075\n",
      "Événement ID: 14, Score: 0.4949380545506552\n"
     ]
    }
   ],
   "source": [
    "import pandas as pd\n",
    "from surprise import SVD, Dataset, Reader\n",
    "from surprise.model_selection import train_test_split\n",
    "from surprise import accuracy\n",
    "from collections import defaultdict\n",
    "\n",
    "# 1. Charger les données\n",
    "df = pd.read_csv(r\"C:\\Users\\nadin_pbj\\Data-Science-Basics\\data\\event_data.csv\")\n",
    "\n",
    "# 2. Créer un Reader et charger dans Surprise\n",
    "reader = Reader(rating_scale=(0, 1))\n",
    "data = Dataset.load_from_df(df[['user_id', 'event_id', 'attended']], reader)\n",
    "\n",
    "# 3. Split des données\n",
    "trainset, testset = train_test_split(data, test_size=0.2, random_state=42)\n",
    "\n",
    "# 4. Créer le modèle SVD\n",
    "model = SVD()\n",
    "model.fit(trainset)\n",
    "\n",
    "# 5. Prédiction et évaluation\n",
    "predictions = model.test(testset)\n",
    "rmse = accuracy.rmse(predictions)\n",
    "print(\"RMSE:\", rmse)\n",
    "\n",
    "# 6. Recommander des événements pour un utilisateur\n",
    "def get_top_n(predictions, n=5):\n",
    "    top_n = defaultdict(list)\n",
    "    for uid, iid, true_r, est, _ in predictions:\n",
    "        top_n[uid].append((iid, est))\n",
    "    for uid, user_ratings in top_n.items():\n",
    "        user_ratings.sort(key=lambda x: x[1], reverse=True)\n",
    "        top_n[uid] = user_ratings[:n]\n",
    "    return top_n\n",
    "\n",
    "top_n = get_top_n(predictions, n=5)\n",
    "\n",
    "# Vérifier si l'utilisateur 42 est dans les recommandations\n",
    "user_id = 42\n",
    "if user_id in top_n:\n",
    "    print(f\"Top 5 événements recommandés pour l'utilisateur {user_id}:\")\n",
    "    for event_id, score in top_n[user_id]:\n",
    "        print(f\"Événement ID: {event_id}, Score: {score}\")\n",
    "else:\n",
    "    print(f\"L'utilisateur {user_id} n'a pas de recommandations disponibles dans l'ensemble de test.\")\n"
   ]
  },
  {
   "cell_type": "code",
   "execution_count": null,
   "id": "c34d85ab-9cfb-43c5-bd2b-840ad263366a",
   "metadata": {},
   "outputs": [],
   "source": []
  }
 ],
 "metadata": {
  "kernelspec": {
   "display_name": "Python 3 (ipykernel)",
   "language": "python",
   "name": "python3"
  },
  "language_info": {
   "codemirror_mode": {
    "name": "ipython",
    "version": 3
   },
   "file_extension": ".py",
   "mimetype": "text/x-python",
   "name": "python",
   "nbconvert_exporter": "python",
   "pygments_lexer": "ipython3",
   "version": "3.10.0"
  }
 },
 "nbformat": 4,
 "nbformat_minor": 5
}
